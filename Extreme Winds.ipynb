{
 "cells": [
  {
   "cell_type": "markdown",
   "metadata": {},
   "source": [
    "# DTU 46500 :  Extreme Winds\n",
    "## Prediction of the 50-year maximum wind speed\n",
    "\n",
    "### Author: Gonzalo Mazzini \n"
   ]
  },
  {
   "cell_type": "code",
   "execution_count": 1,
   "metadata": {},
   "outputs": [],
   "source": [
    "# Show plots in the notebook\n",
    "%matplotlib inline \n",
    "\n",
    "# Automatically reload any packages that changed\n",
    "%load_ext autoreload\n",
    "%autoreload 2\n",
    "\n",
    "# Display multiple arguments\n",
    "from IPython.core.interactiveshell import InteractiveShell \n",
    "InteractiveShell.ast_node_interactivity = \"all\""
   ]
  },
  {
   "cell_type": "code",
   "execution_count": 2,
   "metadata": {},
   "outputs": [],
   "source": [
    "############## python libraries for algebra, math and stats.\n",
    "import numpy as np\n",
    "import pandas as pd\n",
    "import scipy as sp\n",
    "import scipy.stats as stats\n",
    "import math as m\n",
    "import chaospy as cp\n",
    "\n",
    "################### \n",
    "\n",
    "from scipy import optimize\n",
    "from scipy.stats import gumbel_r  \n",
    "from numpy.polynomial import polynomial as P\n",
    "\n",
    "##############\n",
    "import matplotlib.pyplot as plt\n",
    "import datetime\n",
    "import seaborn as sns\n",
    "\n",
    "\n",
    "\n",
    "\n"
   ]
  },
  {
   "cell_type": "code",
   "execution_count": 3,
   "metadata": {},
   "outputs": [],
   "source": [
    "Data = np.genfromtxt('Hovsore2004to2020_U+dir.csv',delimiter=',')\n",
    "Dnames = ['Timestamp','Wsp','MeanDir']"
   ]
  },
  {
   "cell_type": "code",
   "execution_count": 4,
   "metadata": {
    "collapsed": true
   },
   "outputs": [
    {
     "data": {
      "text/html": [
       "<div>\n",
       "<style scoped>\n",
       "    .dataframe tbody tr th:only-of-type {\n",
       "        vertical-align: middle;\n",
       "    }\n",
       "\n",
       "    .dataframe tbody tr th {\n",
       "        vertical-align: top;\n",
       "    }\n",
       "\n",
       "    .dataframe thead th {\n",
       "        text-align: right;\n",
       "    }\n",
       "</style>\n",
       "<table border=\"1\" class=\"dataframe\">\n",
       "  <thead>\n",
       "    <tr style=\"text-align: right;\">\n",
       "      <th></th>\n",
       "      <th>datetime</th>\n",
       "      <th>ws</th>\n",
       "      <th>wdir1</th>\n",
       "    </tr>\n",
       "  </thead>\n",
       "  <tbody>\n",
       "    <tr>\n",
       "      <th>0</th>\n",
       "      <td>2004-02-27 00:06:00</td>\n",
       "      <td>5.23804</td>\n",
       "      <td>313.596985</td>\n",
       "    </tr>\n",
       "    <tr>\n",
       "      <th>1</th>\n",
       "      <td>2004-02-27 00:16:00</td>\n",
       "      <td>4.11642</td>\n",
       "      <td>307.200989</td>\n",
       "    </tr>\n",
       "    <tr>\n",
       "      <th>2</th>\n",
       "      <td>2004-02-27 00:26:00</td>\n",
       "      <td>3.93875</td>\n",
       "      <td>295.513000</td>\n",
       "    </tr>\n",
       "    <tr>\n",
       "      <th>3</th>\n",
       "      <td>2004-02-27 00:36:00</td>\n",
       "      <td>3.34926</td>\n",
       "      <td>287.860992</td>\n",
       "    </tr>\n",
       "    <tr>\n",
       "      <th>4</th>\n",
       "      <td>2004-02-27 00:46:00</td>\n",
       "      <td>2.90978</td>\n",
       "      <td>283.510010</td>\n",
       "    </tr>\n",
       "  </tbody>\n",
       "</table>\n",
       "</div>"
      ],
      "text/plain": [
       "             datetime       ws       wdir1\n",
       "0 2004-02-27 00:06:00  5.23804  313.596985\n",
       "1 2004-02-27 00:16:00  4.11642  307.200989\n",
       "2 2004-02-27 00:26:00  3.93875  295.513000\n",
       "3 2004-02-27 00:36:00  3.34926  287.860992\n",
       "4 2004-02-27 00:46:00  2.90978  283.510010"
      ]
     },
     "execution_count": 4,
     "metadata": {},
     "output_type": "execute_result"
    },
    {
     "data": {
      "text/plain": [
       "count    852994.000000\n",
       "mean          9.219035\n",
       "std           4.426838\n",
       "min           0.510970\n",
       "25%           5.991935\n",
       "50%           8.792115\n",
       "75%          11.946700\n",
       "max          40.595699\n",
       "Name: ws, dtype: float64"
      ]
     },
     "execution_count": 4,
     "metadata": {},
     "output_type": "execute_result"
    }
   ],
   "source": [
    "df=pd.read_csv('Hovsore2004to2020_U+dir.csv',delimiter=',', names=['datetime','ws','wdir1'], parse_dates=['datetime'])\n",
    "df.head()\n",
    "df.describe()['ws']"
   ]
  },
  {
   "cell_type": "code",
   "execution_count": 5,
   "metadata": {
    "collapsed": true
   },
   "outputs": [
    {
     "data": {
      "text/html": [
       "<div>\n",
       "<style scoped>\n",
       "    .dataframe tbody tr th:only-of-type {\n",
       "        vertical-align: middle;\n",
       "    }\n",
       "\n",
       "    .dataframe tbody tr th {\n",
       "        vertical-align: top;\n",
       "    }\n",
       "\n",
       "    .dataframe thead th {\n",
       "        text-align: right;\n",
       "    }\n",
       "</style>\n",
       "<table border=\"1\" class=\"dataframe\">\n",
       "  <thead>\n",
       "    <tr style=\"text-align: right;\">\n",
       "      <th></th>\n",
       "      <th>datetime</th>\n",
       "      <th>ws</th>\n",
       "      <th>wdir1</th>\n",
       "    </tr>\n",
       "  </thead>\n",
       "  <tbody>\n",
       "    <tr>\n",
       "      <th>0</th>\n",
       "      <td>2004-02-27 00:06:00</td>\n",
       "      <td>5.23804</td>\n",
       "      <td>313.596985</td>\n",
       "    </tr>\n",
       "    <tr>\n",
       "      <th>1</th>\n",
       "      <td>2004-02-27 00:16:00</td>\n",
       "      <td>4.11642</td>\n",
       "      <td>307.200989</td>\n",
       "    </tr>\n",
       "    <tr>\n",
       "      <th>2</th>\n",
       "      <td>2004-02-27 00:26:00</td>\n",
       "      <td>3.93875</td>\n",
       "      <td>295.513000</td>\n",
       "    </tr>\n",
       "    <tr>\n",
       "      <th>3</th>\n",
       "      <td>2004-02-27 00:36:00</td>\n",
       "      <td>3.34926</td>\n",
       "      <td>287.860992</td>\n",
       "    </tr>\n",
       "    <tr>\n",
       "      <th>4</th>\n",
       "      <td>2004-02-27 00:46:00</td>\n",
       "      <td>2.90978</td>\n",
       "      <td>283.510010</td>\n",
       "    </tr>\n",
       "  </tbody>\n",
       "</table>\n",
       "</div>"
      ],
      "text/plain": [
       "             datetime       ws       wdir1\n",
       "0 2004-02-27 00:06:00  5.23804  313.596985\n",
       "1 2004-02-27 00:16:00  4.11642  307.200989\n",
       "2 2004-02-27 00:26:00  3.93875  295.513000\n",
       "3 2004-02-27 00:36:00  3.34926  287.860992\n",
       "4 2004-02-27 00:46:00  2.90978  283.510010"
      ]
     },
     "execution_count": 5,
     "metadata": {},
     "output_type": "execute_result"
    },
    {
     "data": {
      "text/plain": [
       "count    852994.000000\n",
       "mean          9.219035\n",
       "std           4.426838\n",
       "min           0.510970\n",
       "25%           5.991935\n",
       "50%           8.792115\n",
       "75%          11.946700\n",
       "max          40.595699\n",
       "Name: ws, dtype: float64"
      ]
     },
     "execution_count": 5,
     "metadata": {},
     "output_type": "execute_result"
    }
   ],
   "source": [
    "df.head()\n",
    "df.describe()['ws']"
   ]
  },
  {
   "cell_type": "code",
   "execution_count": 6,
   "metadata": {},
   "outputs": [],
   "source": [
    "# CREATE A DATETIME ARRAY SO WE CAN USE TIME-DELTAS LATER\n",
    "T = np.empty(Data[:,0].shape, dtype = datetime.datetime) # Empty numpy array of type datetime\n",
    "for i in range(len(Data[:,0])):\n",
    "    T[i] = datetime.datetime.strptime(str(Data[i,0].astype('int64')),'%Y%m%d%H%M')"
   ]
  },
  {
   "cell_type": "code",
   "execution_count": 7,
   "metadata": {},
   "outputs": [
    {
     "name": "stderr",
     "output_type": "stream",
     "text": [
      "C:\\Users\\Usuario\\anaconda3\\lib\\site-packages\\ipykernel_launcher.py:6: RuntimeWarning: invalid value encountered in greater\n",
      "  \n",
      "C:\\Users\\Usuario\\anaconda3\\lib\\site-packages\\ipykernel_launcher.py:6: RuntimeWarning: invalid value encountered in less\n",
      "  \n",
      "C:\\Users\\Usuario\\anaconda3\\lib\\site-packages\\ipykernel_launcher.py:14: RuntimeWarning: invalid value encountered in greater\n",
      "  \n",
      "C:\\Users\\Usuario\\anaconda3\\lib\\site-packages\\ipykernel_launcher.py:14: RuntimeWarning: invalid value encountered in less\n",
      "  \n"
     ]
    }
   ],
   "source": [
    "# CREATE FILTERS (by using Boolean masks)\n",
    "someLowWindSpeed=1\n",
    "CrazyWind=45\n",
    "tooBig_dUdt=5\n",
    "\n",
    "WspOK = ((Data[:,1] > someLowWindSpeed)&(Data[:,1] < CrazyWind)) # Boolean array (T or F) to reject unrealistic wind speeds\n",
    "DeltaU = np.diff(Data[:,1])\n",
    "DeltaT = np.diff(T)\n",
    "dUdT = np.empty(DeltaU.shape,dtype = 'float')\n",
    "for i in range(len(DeltaU)):\n",
    "    dUdT[i] = DeltaU[i]/(DeltaT[i].seconds/600) # Change of wind speed over 10 minutes\n",
    "\n",
    "maxDeltaU = tooBig_dUdt  # Filter: limit largest change allowed in wind speed over 10min\n",
    "DeltaUOK = (dUdT > -maxDeltaU) & (dUdT < maxDeltaU) \n",
    "\n",
    "OK1 = (WspOK[0:-1]==True) & (DeltaUOK == True)\n",
    "OK2 = (WspOK[1:]==True) & (DeltaUOK == True)\n",
    "OK1 = np.append(OK1,True)\n",
    "OK2 = np.insert(OK2,0,True)\n",
    "\n",
    "DataOK = OK1 & OK2 # Final filter in terms of a Boolean array\n"
   ]
  },
  {
   "cell_type": "code",
   "execution_count": 8,
   "metadata": {},
   "outputs": [],
   "source": [
    "# APPLY FILTERS AND COMPUTE YEAR/MONTH VALUES \n",
    "T = T[DataOK]\n",
    "Timestamp = Data[DataOK,0]\n",
    "Wsp = Data[DataOK,1]\n",
    "TI = Data[DataOK,2]\n",
    "\n",
    "# Compute year and month\n",
    "Year = np.floor(Timestamp/1e8).astype('int64')\n",
    "Month = np.floor(np.mod(Timestamp,1e8)/1e6).astype('int64')\n",
    "#Day = np.floor(np.mod(Timestamp,1e6)/1e4).astype('int64')\n",
    "#Hour = np.floor(np.mod(Timestamp,1e4)/1e2).astype('int64')\n",
    "#Minute = np.floor(np.mod(Timestamp,1e2)/1).astype('int64')"
   ]
  },
  {
   "cell_type": "code",
   "execution_count": 131,
   "metadata": {},
   "outputs": [
    {
     "data": {
      "text/plain": [
       "<Figure size 864x432 with 0 Axes>"
      ]
     },
     "execution_count": 131,
     "metadata": {},
     "output_type": "execute_result"
    },
    {
     "data": {
      "text/plain": [
       "[<matplotlib.lines.Line2D at 0x16fde5c1908>]"
      ]
     },
     "execution_count": 131,
     "metadata": {},
     "output_type": "execute_result"
    },
    {
     "data": {
      "text/plain": [
       "Text(0, 0.5, '10-minute average Wind Speed [m/s] ')"
      ]
     },
     "execution_count": 131,
     "metadata": {},
     "output_type": "execute_result"
    },
    {
     "data": {
      "text/plain": [
       "Text(0.5, 0, 'Time [years]')"
      ]
     },
     "execution_count": 131,
     "metadata": {},
     "output_type": "execute_result"
    },
    {
     "data": {
      "image/png": "[encoded data removed]",
      "text/plain": [
       "<Figure size 864x432 with 1 Axes>"
      ]
     },
     "metadata": {
      "needs_background": "light"
     },
     "output_type": "display_data"
    }
   ],
   "source": [
    "# plot the filtered data to check it:\n",
    "plt.figure(figsize=(12,6))\n",
    "plt.plot(T,Wsp)\n",
    "plt.ylabel('10-minute average Wind Speed [m/s] ', fontsize=16)\n",
    "plt.xlabel('Time [years]', fontsize=16)\n",
    "plt.show()"
   ]
  },
  {
   "cell_type": "code",
   "execution_count": 10,
   "metadata": {},
   "outputs": [],
   "source": [
    "# COMPUTE ANNUAL MAXIMA\n",
    "\n",
    "Years = np.unique(Year)\n",
    "\n",
    "nyears = round(len(T)/(6*24*365))   #6 PORQUE 1 HOUR SON 10 TIMESTEMPS\n",
    "Umax = np.empty(nyears,dtype = 'float')\n",
    "\n",
    "for i in range(nyears):\n",
    "    CurrentPeriod = ((Year==Years[i]) & (Month >= 10)) | ((Year == (Years[i]+1)) & (Month < 10))\n",
    "    Umax[i] = max(Wsp[CurrentPeriod])"
   ]
  },
  {
   "cell_type": "code",
   "execution_count": 11,
   "metadata": {},
   "outputs": [
    {
     "name": "stdout",
     "output_type": "stream",
     "text": [
      "Annual maxima: [40.59569931 26.01259995 32.57329941 30.33069992 27.38129997 33.12639999\n",
      " 29.99119949 33.03359985 26.29520035 35.10079956 31.30369949 34.11059952\n",
      " 32.05699921 30.89279938 32.19820023 32.06420135]\n"
     ]
    }
   ],
   "source": [
    "print('Annual maxima: ' + str(Umax))"
   ]
  },
  {
   "cell_type": "markdown",
   "metadata": {
    "collapsed": true
   },
   "source": [
    "## GUMBEL FIT - METHOD OF Probability-weighted moments (PWM)"
   ]
  },
  {
   "cell_type": "markdown",
   "metadata": {},
   "source": [
    "Calculate the expected 50-year maximum wind,\n",
    "– using yearly maxima U1, fitting a Gumbel distribution, using PWM, \n",
    "#### based on all data."
   ]
  },
  {
   "cell_type": "code",
   "execution_count": 12,
   "metadata": {},
   "outputs": [],
   "source": [
    "UmaxSorted = np.sort(Umax)\n",
    "\n",
    "b0PWM = b0PWM = 1/len(UmaxSorted)*np.sum(UmaxSorted)\n",
    "\n",
    "N=len(UmaxSorted)\n",
    "factores=np.empty(N)\n",
    "\n",
    "for i in range (1,N+1):\n",
    "    factores[i-1]=(i-1)/(N-1)\n",
    "\n",
    "\n",
    "b1PWM = (1/len(UmaxSorted))*(np.sum(factores*UmaxSorted))\n",
    "\n",
    "alphaPWM = (2*b1PWM-b0PWM)/m.log(2)\n",
    "\n",
    "betaPWM = b0PWM-0.577\n",
    "\n",
    "V50PWM=betaPWM-alphaPWM*m.log(-m.log(1-1/50))\n",
    "\n",
    "#V50PWM_aprox = betaPWM+alphaPWM*m.log(50)"
   ]
  },
  {
   "cell_type": "code",
   "execution_count": 13,
   "metadata": {},
   "outputs": [
    {
     "name": "stdout",
     "output_type": "stream",
     "text": [
      "PWM: V50= 42.0 m/s; alpha=2.8, beta=31.1 m/s\n"
     ]
    }
   ],
   "source": [
    "print('PWM: V50= '+str(V50PWM.round(1))+' m/s; alpha='+str(alphaPWM.round(2))+', beta='+str(betaPWM.round(1))+' m/s')"
   ]
  },
  {
   "cell_type": "code",
   "execution_count": 14,
   "metadata": {},
   "outputs": [
    {
     "name": "stdout",
     "output_type": "stream",
     "text": [
      "PWM: V50= 42.0 m/s; alpha=2.8, beta=31.1 m/s\n"
     ]
    }
   ],
   "source": [
    "# no correr, resultados de la notebook.\n",
    "print('PWM: V50= '+str(V50PWM.round(1))+' m/s; alpha='+str(alphaPWM.round(2))+', beta='+str(betaPWM.round(1))+' m/s')"
   ]
  },
  {
   "cell_type": "markdown",
   "metadata": {},
   "source": [
    "# Using 7 different 2-year chunks (e.g. 2011-12, 2009-10…)"
   ]
  },
  {
   "cell_type": "code",
   "execution_count": 15,
   "metadata": {},
   "outputs": [],
   "source": [
    "def get_year(col): \n",
    "    return col.year\n",
    "\n",
    "df['year']=df['datetime'].apply(get_year)"
   ]
  },
  {
   "cell_type": "code",
   "execution_count": 16,
   "metadata": {},
   "outputs": [],
   "source": [
    "duoyears=[(2005,2006, '2005/6'),(2007,2008, '2007/8' ),(2009,2010, '2009/10'),(2011,2012, '2011/12'),\n",
    "          (2013,2014, '2013/14'),(2015,2016, '2015/16'), (2017,2018, '2017/18')  ]\n",
    "duoyears_dict={}\n",
    "\n",
    "for element in duoyears:\n",
    "  \n",
    "    duoyears_dict[element[2]]=element[:2]\n",
    "\n",
    "for tupla in duoyears:\n",
    "    duoyears_dict[tupla[2]]=np.asarray([max(df[(df['year']==tupla[:2][0])]['ws']),\n",
    "                                        max(df[(df['year']==tupla[:2][1])]['ws'])])"
   ]
  },
  {
   "cell_type": "code",
   "execution_count": 17,
   "metadata": {
    "collapsed": true
   },
   "outputs": [
    {
     "name": "stdout",
     "output_type": "stream",
     "text": [
      "(66.50412319768539, 8.254018397307052, 34.297449729919435)\n",
      "(38.19933824641471, 1.9331386542850384, 30.656349800109865)\n",
      "(52.64938985907979, 6.264037413120044, 28.207500122070314)\n",
      "(34.38609313604495, 0.6013146370318965, 32.03980030822754)\n",
      "(66.05453083948045, 8.418630559684484, 33.20555081176758)\n",
      "(42.16776740492041, 2.3259126323255206, 33.092198989868166)\n",
      "(30.872242872718157, 0.17341217065678544, 30.19559922027588)\n"
     ]
    }
   ],
   "source": [
    "maximasdict={}\n",
    "alphaPWM2_list=[]\n",
    "betaPWM2_list=[]\n",
    "velocitiesPWM2_list=[]\n",
    "for key , valoresduo in duoyears_dict.items():\n",
    "    ValoresSorted = np.sort(valoresduo)\n",
    "\n",
    "    b0PWM2 = b0PWM2 = 1/len(ValoresSorted)*np.sum(ValoresSorted)\n",
    "    \n",
    "    N=len(valoresduo)\n",
    "    factoresduo=np.empty(N)\n",
    "\n",
    "    for i in range (1,N+1):\n",
    "        factoresduo[i-1]=(i-1)/(N-1)\n",
    "\n",
    "\n",
    "    b1PWM2 = (1/len(ValoresSorted))*(np.sum(factoresduo*ValoresSorted))\n",
    "\n",
    "    alphaPWM2 = (2*b1PWM2-b0PWM2)/m.log(2)\n",
    "\n",
    "    betaPWM2 = b0PWM2-0.577\n",
    "    \n",
    "    maximasdict[key]= (betaPWM2-alphaPWM2*m.log(-m.log(1-1/50)) , alphaPWM2 , betaPWM2 )\n",
    "    alphaPWM2_list.append(alphaPWM2)\n",
    "    betaPWM2_list.append(betaPWM2)\n",
    "    velocitiesPWM2_list.append(betaPWM2-alphaPWM2*m.log(-m.log(1-1/50)))\n",
    "    \n",
    "for k in maximasdict.keys():\n",
    "    print(maximasdict[k])   # (v50 , alpha , beta)"
   ]
  },
  {
   "cell_type": "code",
   "execution_count": 19,
   "metadata": {},
   "outputs": [
    {
     "name": "stdout",
     "output_type": "stream",
     "text": [
      "the CV of V50 is: 0.2877823510038487\n",
      "the CV of alpha is: 0.8247058558851043\n",
      "the CV of beta is: 0.4879557153655043\n"
     ]
    }
   ],
   "source": [
    "print(f'the CV of V50 is: {np.std(np.asarray(velocitiesPWM2_list))/np.mean(np.asarray(velocitiesPWM2_list))}')\n",
    "print(f'the CV of alpha is: {np.std(np.asarray(alphaPWM2_list))/np.mean(np.asarray(alphaPWM2_list))}')\n",
    "print(f'the CV of beta is: {np.std(np.asarray(betaPWM2_list))/np.mean(np.asarray(alphaPWM2_list))}')"
   ]
  },
  {
   "cell_type": "markdown",
   "metadata": {},
   "source": [
    "# GUMBEL FIT - other method (e.g. max-likelihood...)"
   ]
  },
  {
   "cell_type": "code",
   "execution_count": 20,
   "metadata": {},
   "outputs": [],
   "source": [
    "gumb_likelihood= lambda x: -np.sum( np.log(gumbel_r.pdf(Umax, loc=x[0],scale=x[1]) ) )\n",
    "gumb_opt = optimize.minimize(gumb_likelihood,[10,2])"
   ]
  },
  {
   "cell_type": "code",
   "execution_count": 21,
   "metadata": {},
   "outputs": [
    {
     "data": {
      "text/plain": [
       "42.096990453021725"
      ]
     },
     "execution_count": 21,
     "metadata": {},
     "output_type": "execute_result"
    }
   ],
   "source": [
    "30.04-3.09*m.log(-m.log(1-1/50))"
   ]
  },
  {
   "cell_type": "code",
   "execution_count": 22,
   "metadata": {},
   "outputs": [
    {
     "data": {
      "text/plain": [
       "array([30.04518202,  3.09108672])"
      ]
     },
     "execution_count": 22,
     "metadata": {},
     "output_type": "execute_result"
    }
   ],
   "source": [
    "gumb_opt.x"
   ]
  },
  {
   "cell_type": "code",
   "execution_count": 23,
   "metadata": {},
   "outputs": [
    {
     "name": "stdout",
     "output_type": "stream",
     "text": [
      "      fun: 42.579058829230995\n",
      " hess_inv: array([[0.69168938, 0.17899232],\n",
      "       [0.17899232, 0.35746511]])\n",
      "      jac: array([4.76837158e-07, 1.43051147e-06])\n",
      "  message: 'Optimization terminated successfully.'\n",
      "     nfev: 76\n",
      "      nit: 15\n",
      "     njev: 19\n",
      "   status: 0\n",
      "  success: True\n",
      "        x: array([30.04518202,  3.09108672])\n"
     ]
    }
   ],
   "source": [
    "print(gumb_opt)"
   ]
  },
  {
   "cell_type": "markdown",
   "metadata": {},
   "source": [
    "# How well does this follow a Gumbel distribution?"
   ]
  },
  {
   "cell_type": "code",
   "execution_count": 20,
   "metadata": {
    "collapsed": true
   },
   "outputs": [
    {
     "data": {
      "text/plain": [
       "<matplotlib.axes._subplots.AxesSubplot at 0x25c62ab2848>"
      ]
     },
     "execution_count": 20,
     "metadata": {},
     "output_type": "execute_result"
    },
    {
     "data": {
      "text/plain": [
       "[<matplotlib.lines.Line2D at 0x25c62ae6ec8>]"
      ]
     },
     "execution_count": 20,
     "metadata": {},
     "output_type": "execute_result"
    },
    {
     "data": {
      "text/plain": [
       "<Figure size 864x432 with 0 Axes>"
      ]
     },
     "metadata": {},
     "output_type": "display_data"
    },
    {
     "data": {
      "image/png": "[encoded data removed]",
      "text/plain": [
       "<Figure size 432x288 with 1 Axes>"
      ]
     },
     "metadata": {
      "needs_background": "light"
     },
     "output_type": "display_data"
    }
   ],
   "source": [
    "x_linsp=np.linspace(15,50,50)\n",
    "\n",
    "fig=plt.figure(figsize=(12,6))\n",
    "fig, ax=plt.subplots(1,1)\n",
    "sns.scatterplot(x=Umax ,y=gumbel_r.pdf(Umax, loc=betaPWM, scale=alphaPWM))\n",
    "ax.plot(x_linsp, gumbel_r.pdf(x_linsp, loc=betaPWM, scale=alphaPWM), 'r-', lw=1, alpha=0.6)\n",
    "\n",
    "plt.show()"
   ]
  },
  {
   "cell_type": "markdown",
   "metadata": {},
   "source": [
    "__Kolmogorov Test"
   ]
  },
  {
   "cell_type": "code",
   "execution_count": 24,
   "metadata": {},
   "outputs": [
    {
     "data": {
      "text/plain": [
       "array([30.04518202,  3.09108672])"
      ]
     },
     "execution_count": 24,
     "metadata": {},
     "output_type": "execute_result"
    }
   ],
   "source": [
    "gumb_opt.x"
   ]
  },
  {
   "cell_type": "code",
   "execution_count": 25,
   "metadata": {},
   "outputs": [],
   "source": [
    "Kolmogorov_test_MLE= stats.kstest(Umax,'gumbel_r', gumb_opt.x)       "
   ]
  },
  {
   "cell_type": "code",
   "execution_count": 26,
   "metadata": {},
   "outputs": [
    {
     "name": "stdout",
     "output_type": "stream",
     "text": [
      "p-value for Kolmogorov Test with PWM method: KstestResult(statistic=0.19819172310045485, pvalue=0.5016826520000621)\n",
      "p-value for Kolmogorov Test with MLE method: KstestResult(statistic=0.17395514737786738, pvalue=0.680637704772862)\n"
     ]
    }
   ],
   "source": [
    "Kolmogorov_test_PWM = stats.kstest(Umax,'gumbel_r', np.asarray([betaPWM,alphaPWM]))  #for PWM\n",
    "\n",
    "Kolmogorov_test_MLE= stats.kstest(Umax,'gumbel_r', gumb_opt.x)           \n",
    "\n",
    "print(f'p-value for Kolmogorov Test with PWM method: {Kolmogorov_test_PWM}')\n",
    "print(f'p-value for Kolmogorov Test with MLE method: {Kolmogorov_test_MLE}')\n",
    "#Chequear resultados."
   ]
  },
  {
   "cell_type": "markdown",
   "metadata": {},
   "source": [
    "The p-value represents the probability of the null hipotesis. For the Kolmogorov test, the null hipotesis is that the two samples have the same distribution. In this case, the One-way Kolmogorov Test (comparing a data sample to a theoretical reference distribution) the result is that the sample has the same distribution with a 0.8349 level of statistical significance for the Max Likelhood method and 0.6832 for MWP."
   ]
  },
  {
   "cell_type": "markdown",
   "metadata": {},
   "source": [
    "# Uncertainty in the 50-year wind\n",
    "\n",
    "• Simulate Gumbel-distributed wind maxima for 1000 years,\n",
    "• using the a-parameter you found previously (in 1a)\n",
    "– do bootstrap-sampling with many 2-year segments: get 𝑓!\"(𝑉#$) and 𝑓!\"(𝛼),\n",
    "i.e. distributions of 𝑉#$ and 𝛼 found when using PWM and only 2 years;\n",
    "– what is the std.dev. of 𝑉#$ (𝜎%!\"&'(), i.e. uncertainty),\n",
    "in Gumbel-fitting using only 2 years?\n",
    "– repeat for other segment lengths 𝑇)* (3 yr…10 yr.),\n",
    "to get (fit) an expression for 𝜎%!\"&'( -variation as a function of 𝑇)*\n",
    "– Considering the expression to estimate Var{U_T} [slide 18]\n",
    "what variation in ‘slope’ a does this 𝜎%!\"(𝑇)*) correspond to?"
   ]
  },
  {
   "cell_type": "markdown",
   "metadata": {},
   "source": [
    "As discussed in class, for the 1000 years you’ll synthesize 1000 annual maxima using a Gumbel distribution"
   ]
  },
  {
   "cell_type": "code",
   "execution_count": 27,
   "metadata": {},
   "outputs": [],
   "source": [
    "# Monte Carlo"
   ]
  },
  {
   "cell_type": "code",
   "execution_count": 133,
   "metadata": {},
   "outputs": [
    {
     "data": {
      "text/plain": [
       "Text(0.5, 0, 'Samples')"
      ]
     },
     "execution_count": 133,
     "metadata": {},
     "output_type": "execute_result"
    },
    {
     "data": {
      "text/plain": [
       "Text(0, 0.5, 'Uniform distribution [0,1]')"
      ]
     },
     "execution_count": 133,
     "metadata": {},
     "output_type": "execute_result"
    },
    {
     "data": {
      "text/plain": [
       "[<matplotlib.lines.Line2D at 0x16fda757fc8>]"
      ]
     },
     "execution_count": 133,
     "metadata": {},
     "output_type": "execute_result"
    },
    {
     "data": {
      "image/png": "[encoded data removed]",
      "text/plain": [
       "<Figure size 864x432 with 1 Axes>"
      ]
     },
     "metadata": {
      "needs_background": "light"
     },
     "output_type": "display_data"
    }
   ],
   "source": [
    "import chaospy as cp\n",
    "\n",
    "MarginalDist1 = cp.Uniform(0,1)\n",
    "\n",
    "N_samples=1000\n",
    "\n",
    "SMC = MarginalDist1.sample(N_samples, rule = \"R\")\n",
    "\n",
    "fig=plt.figure(figsize=(12,6))\n",
    "plt.xlabel('Samples', fontsize=16)\n",
    "plt.ylabel('Uniform distribution [0,1]', fontsize=16)\n",
    "\n",
    "plt.plot(SMC, color='black')\n",
    "\n",
    "X_dist=gumbel_r(loc=betaPWM, scale=alphaPWM)"
   ]
  },
  {
   "cell_type": "code",
   "execution_count": 31,
   "metadata": {},
   "outputs": [
    {
     "data": {
      "text/plain": [
       "scipy.stats._distn_infrastructure.rv_frozen"
      ]
     },
     "execution_count": 31,
     "metadata": {},
     "output_type": "execute_result"
    }
   ],
   "source": [
    "type(gumbel_r(loc=betaPWM, scale=alphaPWM))"
   ]
  },
  {
   "cell_type": "code",
   "execution_count": 32,
   "metadata": {},
   "outputs": [],
   "source": [
    "X1_MC = X_dist.ppf(SMC)"
   ]
  },
  {
   "cell_type": "code",
   "execution_count": 136,
   "metadata": {},
   "outputs": [
    {
     "data": {
      "text/plain": [
       "<matplotlib.axes._subplots.AxesSubplot at 0x16fde019b08>"
      ]
     },
     "execution_count": 136,
     "metadata": {},
     "output_type": "execute_result"
    },
    {
     "data": {
      "text/plain": [
       "Text(0, 0.5, 'Frecuency')"
      ]
     },
     "execution_count": 136,
     "metadata": {},
     "output_type": "execute_result"
    },
    {
     "data": {
      "text/plain": [
       "Text(0.5, 0, 'Wind annual maxima (simulated) [m/s]')"
      ]
     },
     "execution_count": 136,
     "metadata": {},
     "output_type": "execute_result"
    },
    {
     "data": {
      "image/png": "[encoded data removed]",
      "text/plain": [
       "<Figure size 864x432 with 1 Axes>"
      ]
     },
     "metadata": {
      "needs_background": "light"
     },
     "output_type": "display_data"
    }
   ],
   "source": [
    "import seaborn as sns\n",
    "fig=plt.figure(figsize=(12,6))\n",
    "sns.distplot(X1_MC,bins=100, kde=True, color='b')\n",
    "plt.ylabel('Frecuency', fontsize=16)\n",
    "plt.xlabel('Wind annual maxima (simulated) [m/s]', fontsize=16)"
   ]
  },
  {
   "cell_type": "code",
   "execution_count": 34,
   "metadata": {
    "collapsed": true
   },
   "outputs": [
    {
     "data": {
      "text/plain": [
       "array([36.76001662, 38.68937206, 35.17114294, 31.53363383, 33.59534482,\n",
       "       26.62216142, 30.37954916, 30.64685561, 35.71870112, 30.90931385,\n",
       "       38.80294514, 27.24539358, 33.19564317, 30.48400871, 31.83976444,\n",
       "       30.58430445, 30.26728279, 31.24108062, 31.63456683, 29.98382318,\n",
       "       35.44837089, 29.50085129, 33.40562006, 28.40462752, 29.20589377,\n",
       "       28.45376012, 34.82976201, 28.6660048 , 37.20180924, 29.24280277,\n",
       "       30.07104234, 38.02603796, 27.85070326, 32.86866144, 29.27760626,\n",
       "       29.69315172, 30.11614088, 28.49941772, 33.21690264, 29.44629732,\n",
       "       25.58471736, 39.13681513, 31.72002288, 29.35120502, 31.84123524,\n",
       "       32.27988671, 38.28465468, 29.93093764, 29.32897651, 30.4389746 ,\n",
       "       29.77017296, 44.54382804, 29.11835383, 28.66816231, 33.98177207,\n",
       "       31.18922965, 37.33376879, 34.47607996, 34.26464627, 32.74111342,\n",
       "       31.08209946, 32.3766808 , 28.22580593, 35.72865525, 27.79388998,\n",
       "       31.51890865, 34.46061548, 31.11059995, 28.81158508, 29.04356851,\n",
       "       35.67596863, 28.62773662, 28.82421586, 36.44053692, 26.74326085,\n",
       "       30.75928057, 30.9600604 , 36.86174521, 32.84152564, 38.65716633,\n",
       "       33.58092238, 37.64578205, 33.49442013, 35.70180776, 33.2405196 ,\n",
       "       30.32226298, 35.8899593 , 33.30347942, 28.97607856, 29.9895475 ,\n",
       "       29.92361911, 38.04417166, 28.3373463 , 31.47149549, 30.09519607,\n",
       "       37.01083395, 29.88025905, 34.37207791, 31.2442723 , 30.79368988,\n",
       "       30.96374231, 27.50802008, 30.36436161, 34.04541284, 31.02830202,\n",
       "       38.57414284, 29.28530999, 35.44724569, 29.67238226, 33.65182125,\n",
       "       32.92507671, 39.50337027, 28.99945306, 33.22807711, 29.1680691 ,\n",
       "       31.10472322, 29.29146752, 30.64173096, 35.05980092, 32.6703554 ,\n",
       "       36.32716576, 29.88109879, 31.60863559, 29.63685749, 29.62972303,\n",
       "       31.19412484, 31.8670787 , 33.08424637, 36.88681251, 31.4621049 ,\n",
       "       29.58028002, 32.24316796, 31.20026301, 32.00899096, 36.19778658,\n",
       "       33.63144554, 29.52861362, 27.37089055, 30.99604423, 40.65956142,\n",
       "       26.8365462 , 29.41256777, 30.5560546 , 32.73520849, 40.68250259,\n",
       "       31.66998488, 30.69902528, 32.03652719, 27.79746628, 41.50154293,\n",
       "       32.06007084, 33.64215688, 34.78220504, 31.01789729, 27.45018655,\n",
       "       34.250932  , 33.58816939, 28.37810677, 31.47783124, 33.45438622,\n",
       "       30.52517191, 33.14340173, 33.41794931, 29.44334064, 29.00543533,\n",
       "       44.48593598, 29.32640895, 34.4552611 , 39.76644205, 32.63140071,\n",
       "       30.2610959 , 36.83689202, 36.33947121, 38.94430462, 31.89261239,\n",
       "       32.23419172, 41.11757364, 43.07368224, 30.9610526 , 29.69457396,\n",
       "       36.79374332, 35.65447371, 29.35028763, 29.31721093, 30.7819883 ,\n",
       "       29.0432322 , 32.59449897, 30.86966313, 28.67913027, 41.05029553,\n",
       "       31.02734561, 29.9746468 , 38.77374846, 30.24456817, 32.87830861,\n",
       "       42.09343848, 30.95370636, 32.18341247, 28.96245887, 31.04506912,\n",
       "       30.38159385, 33.0451457 , 33.94972154, 31.73450975, 32.03740626,\n",
       "       29.62482369, 35.4839195 , 34.47064941, 32.02334938, 36.7975555 ,\n",
       "       30.35206442, 32.14484248, 33.05293535, 35.46716239, 31.69845429,\n",
       "       29.52226327, 28.28305319, 38.68762594, 39.1714301 , 33.55068523,\n",
       "       32.37302609, 26.85491725, 32.8419555 , 40.74324954, 28.76322419,\n",
       "       39.25698183, 35.89730654, 31.81494421, 32.47651567, 34.04467728,\n",
       "       30.26362078, 30.39016199, 28.89486064, 34.77420727, 39.68751973,\n",
       "       28.92498427, 32.70023118, 35.20155736, 32.9037102 , 34.19802389,\n",
       "       35.38328476, 33.85825711, 29.48626483, 34.52280607, 28.19692017,\n",
       "       30.18875725, 28.52848436, 41.48861763, 33.54478306, 32.78041802,\n",
       "       31.30655833, 30.51471357, 32.59460107, 34.64976726, 38.92642204,\n",
       "       32.25013424, 32.85610053, 35.36485541, 28.36965572, 32.50985539,\n",
       "       33.96239851, 39.09735037, 36.82572781, 26.24678656, 32.39267988,\n",
       "       32.25261614, 35.5254352 , 34.32672197, 31.21548821, 43.53310177,\n",
       "       33.75826933, 30.3554765 , 35.73532208, 30.95961833, 30.791512  ,\n",
       "       32.11554153, 30.42413117, 34.40879946, 29.18513198, 32.97936937,\n",
       "       33.90484344, 30.19411321, 28.64638891, 35.60463422, 31.96380046,\n",
       "       30.34059146, 36.78342013, 34.1180645 , 27.12881977, 30.66993826,\n",
       "       32.46056905, 26.59831425, 30.56716057, 31.62900121, 32.09668642,\n",
       "       33.05825314, 30.68767576, 30.56502084, 31.19067716, 38.05456613,\n",
       "       34.38662911, 35.95064934, 32.65124072, 35.57646748, 29.3717892 ,\n",
       "       34.70036516, 37.82981412, 48.07485203, 33.90175579, 31.36099939,\n",
       "       36.71355067, 31.63676259, 33.63361558, 31.85294514, 35.10468244,\n",
       "       32.69374788, 36.48446535, 31.14758882, 33.40442972, 36.76151906,\n",
       "       31.65951572, 31.00539116, 32.81731886, 35.40071773, 36.81222741,\n",
       "       29.47061888, 29.88309788, 32.28259509, 29.93433219, 29.35311845,\n",
       "       31.99677581, 30.22285785, 30.90514594, 33.17211042, 30.13075487,\n",
       "       35.62966143, 27.07859565, 32.81041664, 32.57603902, 30.94599873,\n",
       "       28.01537815, 31.93151964, 29.65026744, 37.36742035, 36.49446638,\n",
       "       32.67868302, 31.50366658, 35.31044432, 29.2720385 , 28.77872685,\n",
       "       35.33757253, 30.52080234, 28.79804434, 29.78930225, 27.65537189,\n",
       "       29.75529941, 30.57753156, 30.08419356, 37.91393663, 33.27372564,\n",
       "       34.78987743, 31.45151505, 30.81529624, 37.88638599, 37.43147755,\n",
       "       31.42659388, 40.17440353, 32.15341958, 38.24202373, 30.22416836,\n",
       "       29.65760003, 37.54778723, 31.64109613, 35.0858702 , 27.99036018,\n",
       "       31.62255899, 31.50629642, 26.65440419, 32.97754016, 28.47222494,\n",
       "       29.83195994, 31.58402218, 35.12192261, 26.84124364, 32.22843075,\n",
       "       29.93560703, 30.39777389, 28.9661032 , 32.47851344, 31.25681915,\n",
       "       28.63611148, 29.19186389, 30.39725873, 31.91681782, 31.83957179,\n",
       "       33.93573461, 32.10675798, 29.94637544, 32.03641159, 29.26323915,\n",
       "       28.03769373, 36.04948903, 32.0761349 , 32.91887405, 28.71751304,\n",
       "       32.74913758, 28.97754416, 29.98264919, 31.56195289, 35.6964904 ,\n",
       "       34.53428564, 29.11622126, 33.19566995, 33.61856537, 37.29234351,\n",
       "       28.13559571, 32.85534652, 35.68359153, 35.12080486, 35.94550585,\n",
       "       31.19612501, 33.65493062, 36.64543484, 37.71338159, 30.02418912,\n",
       "       32.065538  , 30.73363054, 32.98180572, 35.93046367, 30.06120607,\n",
       "       46.33088734, 29.29905266, 32.31694738, 32.27944589, 34.54120591,\n",
       "       33.93602224, 33.94388841, 29.68006517, 37.98698491, 34.11581652,\n",
       "       30.50145646, 27.82539988, 29.14637664, 29.78613606, 29.21555004,\n",
       "       34.41878287, 31.33431148, 32.19928726, 30.85787209, 37.4408962 ,\n",
       "       29.30874081, 30.51828255, 31.91529763, 36.41134138, 30.41598886,\n",
       "       30.09438343, 33.49865763, 28.65590756, 30.1619883 , 29.77931335,\n",
       "       30.66210664, 30.65474001, 30.92555552, 29.94429005, 33.18064267,\n",
       "       30.11143154, 35.58904323, 28.52967973, 33.00581056, 31.13027939,\n",
       "       34.24990322, 31.6894825 , 27.69753542, 31.43095592, 32.60328076,\n",
       "       31.74816859, 37.40989931, 33.14826732, 35.96010745, 33.44275049,\n",
       "       35.63161413, 30.68350713, 34.04977379, 32.56959057, 30.34212011,\n",
       "       29.06775389, 29.46595713, 32.88314976, 33.878769  , 30.99806755,\n",
       "       29.5560004 , 30.24126551, 30.19814088, 36.02268132, 29.85635397,\n",
       "       36.42208386, 29.79198565, 30.03003254, 32.54599605, 32.02189639,\n",
       "       32.72743895, 31.44644713, 33.48139013, 34.08783932, 31.34204935,\n",
       "       31.98326957, 30.29059758, 28.52974994, 31.42995497, 33.25692136,\n",
       "       35.30488864, 33.36519516, 30.40953868, 26.48477306, 28.83918252,\n",
       "       32.77510388, 32.30124897, 29.29997324, 27.4961222 , 33.26512681,\n",
       "       32.60082075, 35.33755462, 38.26358998, 34.74791847, 33.19478612,\n",
       "       29.92143295, 33.42010251, 34.80814261, 34.21903756, 31.93518049,\n",
       "       32.76505071, 31.69605975, 37.85065454, 32.72880608, 31.48161462,\n",
       "       30.99559646, 37.95794632, 31.79207479, 30.08433404, 31.28866071,\n",
       "       32.43634101, 33.84258449, 31.24512684, 44.56351057, 33.85403879,\n",
       "       41.15047941, 31.40971418, 33.94389183, 33.57848606, 31.25259343,\n",
       "       37.78231885, 35.74212264, 37.99731872, 32.092252  , 29.52073876,\n",
       "       38.67614572, 29.35123722, 34.2983552 , 33.20775779, 28.39584423,\n",
       "       38.51535293, 33.93255997, 31.31953581, 36.1340821 , 33.85234988,\n",
       "       42.85455207, 32.52683447, 26.83367   , 34.39457633, 35.94544081,\n",
       "       31.66377187, 26.77111089, 32.22780057, 28.71703272, 31.76068019,\n",
       "       33.61752583, 38.94653892, 35.86043258, 28.89581851, 31.50284445,\n",
       "       32.17835194, 32.81266203, 31.87564115, 33.3818927 , 27.98015756,\n",
       "       26.99003508, 30.85368059, 33.20978592, 27.02374464, 31.78103972,\n",
       "       31.1185873 , 29.30320998, 31.27753101, 34.09864369, 37.12368919,\n",
       "       32.39586768, 33.63931511, 38.84579411, 30.07691566, 38.53350314,\n",
       "       36.63229983, 26.62099923, 29.97280166, 31.8416655 , 32.41836855,\n",
       "       30.66323779, 33.47195653, 38.45530833, 34.12422643, 35.74476437,\n",
       "       28.4594566 , 30.5957452 , 39.28711929, 29.52133577, 38.02669894,\n",
       "       35.34919542, 35.19187631, 32.52099602, 31.17178488, 30.92301407,\n",
       "       33.38809463, 33.09223128, 38.49181599, 50.32918658, 26.85403926,\n",
       "       29.64175799, 33.0522398 , 31.2943819 , 33.95412245, 44.04805174,\n",
       "       32.80013828, 31.6569704 , 31.53886567, 31.73458758, 32.72264266,\n",
       "       33.99886809, 30.48356227, 29.79815371, 36.64859264, 36.66869755,\n",
       "       30.35267806, 31.34370109, 29.41783824, 31.5751768 , 26.66615614,\n",
       "       30.9122468 , 29.16486197, 34.97799532, 28.465958  , 34.90209981,\n",
       "       39.95327556, 34.8731666 , 29.61306701, 28.6572558 , 35.1266196 ,\n",
       "       30.77261737, 35.6657016 , 31.60790543, 28.70465187, 30.36456214,\n",
       "       33.02912707, 32.92559582, 34.58775311, 32.01433256, 33.1011357 ,\n",
       "       29.32040214, 32.14123433, 30.16169548, 34.52071797, 35.48099149,\n",
       "       28.99928357, 31.87064276, 33.47580346, 28.80102693, 33.51116926,\n",
       "       34.57186304, 30.07255115, 30.37437456, 39.70730788, 33.69804978,\n",
       "       28.22456873, 29.36801324, 35.66131006, 34.47066786, 34.15772294,\n",
       "       30.62843968, 35.55273575, 35.45938447, 44.67442272, 30.81729879,\n",
       "       30.02537439, 42.0760427 , 29.25814359, 35.01799324, 29.1328838 ,\n",
       "       33.22389671, 34.74963993, 28.50058377, 39.93000255, 33.06042116,\n",
       "       31.32259843, 34.06162953, 32.53082226, 31.11381238, 29.74975703,\n",
       "       27.75251171, 29.91966454, 40.15088248, 30.99020056, 30.53112407,\n",
       "       32.35759445, 34.56211609, 35.27822667, 31.96457316, 32.8949637 ,\n",
       "       36.69621167, 33.03367348, 26.94063349, 33.11327332, 32.90852904,\n",
       "       43.98728897, 33.30843891, 31.69774192, 30.67849628, 37.1267556 ,\n",
       "       37.14552108, 43.8053946 , 32.40194164, 34.20072883, 27.985541  ,\n",
       "       33.72577802, 33.90028939, 34.0614596 , 32.25851098, 32.84996941,\n",
       "       30.12214829, 30.11046151, 31.55086226, 31.73481305, 28.46158235,\n",
       "       32.54189511, 30.88732962, 33.62479087, 34.00335035, 32.27042805,\n",
       "       32.66205228, 29.66018118, 35.64145782, 32.08246466, 34.54431744,\n",
       "       35.3715251 , 27.75844011, 31.16714965, 30.38959229, 27.82511551,\n",
       "       34.59034336, 41.69200223, 29.56064192, 29.29830675, 33.77806837,\n",
       "       29.27619224, 35.85610407, 31.51142957, 34.69872936, 52.88404804,\n",
       "       28.64420574, 39.36122915, 35.86135454, 29.68377908, 30.30961997,\n",
       "       32.96202468, 36.3170811 , 31.12359284, 29.68882448, 34.37573318,\n",
       "       32.6185589 , 32.26280469, 38.6155815 , 31.27582459, 34.5812264 ,\n",
       "       32.01460524, 35.69424481, 29.97895756, 27.10862573, 35.35674063,\n",
       "       26.68771285, 38.3929886 , 35.41346262, 31.94930889, 30.27225851,\n",
       "       30.66018103, 33.55375653, 33.59998113, 36.65103622, 37.37344176,\n",
       "       30.53304206, 36.3638302 , 32.17926398, 36.56292778, 38.17304206,\n",
       "       34.54740957, 30.48450257, 27.5838242 , 32.17170056, 35.37316401,\n",
       "       41.79449971, 28.5074676 , 34.7886684 , 45.48019096, 34.43989846,\n",
       "       33.28680219, 32.13346078, 35.7599373 , 30.34670071, 32.34450953,\n",
       "       27.45776892, 29.05319412, 29.83471575, 32.30566787, 30.95219586,\n",
       "       30.85587663, 33.02192997, 28.57999406, 30.03088312, 28.67146323,\n",
       "       31.00717831, 29.57475713, 31.06956057, 30.64811198, 43.1234469 ,\n",
       "       30.32548269, 29.82807752, 28.16994515, 29.65390672, 31.1926438 ,\n",
       "       31.70214723, 39.69816299, 32.38946305, 30.57899707, 35.85116282,\n",
       "       31.94590101, 33.71114266, 38.0073665 , 35.46037078, 31.09642629,\n",
       "       29.13876766, 33.48085103, 35.09760446, 30.21128217, 32.14629315,\n",
       "       33.42471982, 36.69056887, 28.77236564, 30.72611168, 31.03222018,\n",
       "       33.20794742, 35.06961655, 35.38583402, 26.16175592, 36.75848893,\n",
       "       29.83130232, 35.82823606, 29.47199222, 39.44396086, 39.84900292,\n",
       "       35.91124079, 32.04171077, 35.05240542, 32.32274206, 35.16127743,\n",
       "       37.21186035, 30.04301695, 43.81926161, 29.63058049, 30.48920544,\n",
       "       32.22625293, 29.47844963, 32.04213324, 35.39431717, 29.81353586,\n",
       "       33.39153453, 27.45980702, 32.66863759, 33.75795383, 27.72625565,\n",
       "       30.59245331, 41.20659343, 34.74946028, 30.25268731, 32.73811976,\n",
       "       30.42952286, 29.04095417, 28.91258489, 29.48202351, 28.8175407 ,\n",
       "       30.51053257, 29.65294525, 29.04521247, 33.66843712, 42.23979994,\n",
       "       36.37854475, 26.93163215, 32.0814941 , 28.57566998, 37.50150201,\n",
       "       27.39917371, 30.26398359, 35.44643007, 34.01609449, 30.55859445,\n",
       "       35.63929183, 34.27029737, 31.01795086, 33.14574701, 29.02967509,\n",
       "       31.6124607 , 28.81945399, 33.94755087, 30.51239997, 40.23311869,\n",
       "       32.57662981, 32.19336672, 30.57322899, 31.30642138, 37.46283734,\n",
       "       33.59614697, 26.51063975, 32.19898596, 31.58032197, 31.80154783,\n",
       "       33.7290458 , 32.18795939, 28.39693451, 28.70875766, 33.78644313,\n",
       "       36.19389518, 29.96343434, 30.237572  , 28.00072343, 30.73133988,\n",
       "       29.45022687, 29.06196629, 37.68645402, 31.94299378, 29.85774479,\n",
       "       31.36207238, 35.32289992, 32.39752928, 35.32671791, 29.25307897,\n",
       "       30.30248199, 34.22390722, 34.3538197 , 28.15496501, 34.12195444,\n",
       "       36.61389988, 45.85176674, 36.1412771 , 33.59165722, 26.81799109,\n",
       "       33.99999287, 33.46174159, 30.11749446, 30.67711475, 33.76970197,\n",
       "       34.82630372, 34.31601591, 29.43572135, 27.75471908, 36.05787301,\n",
       "       41.50368233, 35.01641757, 34.15416393, 27.17984478, 31.39433353,\n",
       "       32.18618813, 29.76481646, 31.76452353, 28.15294061, 29.15646593,\n",
       "       36.10712356, 29.99620151, 33.02002319, 32.49692184, 33.16430796,\n",
       "       30.12770262, 27.71924238, 40.21264352, 30.95390276, 29.27772341,\n",
       "       33.05293863, 30.85363885, 30.10016993, 32.76770842, 35.14293538,\n",
       "       30.47646965, 37.08796964, 31.5890957 , 32.78376968, 30.71762727])"
      ]
     },
     "execution_count": 34,
     "metadata": {},
     "output_type": "execute_result"
    }
   ],
   "source": [
    "X1_MC"
   ]
  },
  {
   "cell_type": "code",
   "execution_count": 48,
   "metadata": {},
   "outputs": [
    {
     "name": "stdout",
     "output_type": "stream",
     "text": [
      "the V max50years using all simulated velocities  44.213037518519315\n"
     ]
    }
   ],
   "source": [
    "X1_MC.sort()   #ESTO NO LO PIDE....\n",
    "\n",
    "UMCmaxSorted = np.sort(X1_MC)\n",
    "\n",
    "b0PWM_MC = b0PWM_MC = 1/len(UMCmaxSorted)*np.sum(UMCmaxSorted)\n",
    "\n",
    "N=len(UMCmaxSorted)\n",
    "factores_MC=np.empty(N)\n",
    "\n",
    "for i in range (1,N+1):\n",
    "    factores_MC[i-1]=(i-1)/(N-1)\n",
    "\n",
    "\n",
    "b1PWM_MC = (1/len(UMCmaxSorted))*(np.sum(factores_MC*UMCmaxSorted))\n",
    "\n",
    "alphaPWM_MC = (2*b1PWM_MC-b0PWM_MC)/m.log(2)\n",
    "\n",
    "betaPWM_MC = b0PWM_MC-0.577\n",
    "\n",
    "V50PWM_MC=betaPWM_MC-alphaPWM_MC*m.log(-m.log(1-1/50))\n",
    "\n",
    "#V50PWM_aprox = betaPWM+alphaPWM*m.log(50)\n",
    "\n",
    "print(f\"the V max50years using all simulated velocities  {V50PWM_MC}\")"
   ]
  },
  {
   "cell_type": "markdown",
   "metadata": {},
   "source": [
    "__do bootstrap-sampling with many 2-year segments: get 𝑓!\"(𝑉#$) and 𝑓!\"(𝛼),i.e. distributions of 𝑉#$ and 𝛼 found when using PWM and only 2 years;"
   ]
  },
  {
   "cell_type": "code",
   "execution_count": 35,
   "metadata": {},
   "outputs": [
    {
     "data": {
      "text/plain": [
       "(1000, 2)"
      ]
     },
     "execution_count": 35,
     "metadata": {},
     "output_type": "execute_result"
    }
   ],
   "source": [
    "Nbootstrap = 2\n",
    "BootstrapSize = 1000\n",
    "Bsample = np.random.choice(X1_MC, size=(BootstrapSize, Nbootstrap))  #toma 1.000 muestras de 2 velocidades.\n",
    "\n",
    "Bsample.shape\n",
    "\n",
    "Bsample"
   ]
  },
  {
   "cell_type": "code",
   "execution_count": 37,
   "metadata": {},
   "outputs": [],
   "source": [
    "bootstrap_output=[]\n",
    "for dupla in Bsample:\n",
    "    DuplaSorted = np.sort(dupla)\n",
    "\n",
    "    b0PWMboot2 = b0PWMboot2 = 1/len(DuplaSorted)*np.sum(DuplaSorted)\n",
    "    \n",
    "    N=len(dupla)\n",
    "    factoresboot2=np.empty(N)\n",
    "\n",
    "    for i in range (1,N+1):\n",
    "        factoresboot2[i-1]=(i-1)/(N-1)\n",
    "\n",
    "\n",
    "    b1PWMboot2 = (1/len(DuplaSorted))*(np.sum(factoresboot2*DuplaSorted))\n",
    "\n",
    "    alphaPWMboot2 = (2*b1PWMboot2-b0PWMboot2)/m.log(2)\n",
    "\n",
    "    betaPWMboot2 = b0PWMboot2-0.577\n",
    "    \n",
    "    V50PWMboot2=betaPWMboot2-alphaPWMboot2*m.log(-m.log(1-1/50))\n",
    "    \n",
    "    bootstrap_output.append((V50PWMboot2,alphaPWMboot2,betaPWMboot2))\n",
    "    "
   ]
  },
  {
   "cell_type": "code",
   "execution_count": 39,
   "metadata": {},
   "outputs": [],
   "source": [
    "alphavalues_boot2=np.asarray([bootstrap_output[k][1] for k in range(0,1000)])"
   ]
  },
  {
   "cell_type": "code",
   "execution_count": 40,
   "metadata": {},
   "outputs": [
    {
     "data": {
      "text/plain": [
       "2.6827194452364918"
      ]
     },
     "execution_count": 40,
     "metadata": {},
     "output_type": "execute_result"
    }
   ],
   "source": [
    "np.mean(alphavalues_boot2)"
   ]
  },
  {
   "cell_type": "code",
   "execution_count": 41,
   "metadata": {},
   "outputs": [
    {
     "data": {
      "text/plain": [
       "<Figure size 864x432 with 0 Axes>"
      ]
     },
     "execution_count": 41,
     "metadata": {},
     "output_type": "execute_result"
    },
    {
     "data": {
      "text/plain": [
       "<matplotlib.axes._subplots.AxesSubplot at 0x16fd4d3bcc8>"
      ]
     },
     "execution_count": 41,
     "metadata": {},
     "output_type": "execute_result"
    },
    {
     "data": {
      "text/plain": [
       "Text(0.5, 0, 'Values of α for two-years bootstrap sampling')"
      ]
     },
     "execution_count": 41,
     "metadata": {},
     "output_type": "execute_result"
    },
    {
     "data": {
      "text/plain": [
       "Text(0, 0.5, 'Frecuency ')"
      ]
     },
     "execution_count": 41,
     "metadata": {},
     "output_type": "execute_result"
    },
    {
     "data": {
      "image/png": "[encoded data removed]",
      "text/plain": [
       "<Figure size 864x432 with 1 Axes>"
      ]
     },
     "metadata": {
      "needs_background": "light"
     },
     "output_type": "display_data"
    }
   ],
   "source": [
    "plt.figure(figsize=(12,6))\n",
    "sns.distplot(alphavalues_boot2,bins=100, kde=False, color='y')\n",
    "plt.xlabel('Values of α for two-years bootstrap sampling', fontsize=16)\n",
    "plt.ylabel('Frecuency ', fontsize=16)"
   ]
  },
  {
   "cell_type": "code",
   "execution_count": 42,
   "metadata": {},
   "outputs": [],
   "source": [
    "velocities_boot2=np.asarray([bootstrap_output[k][0] for k in range(0,1000)])\n",
    "\n",
    "np.mean(velocities_boot2)"
   ]
  },
  {
   "cell_type": "code",
   "execution_count": 137,
   "metadata": {},
   "outputs": [
    {
     "data": {
      "text/plain": [
       "<Figure size 864x432 with 0 Axes>"
      ]
     },
     "execution_count": 137,
     "metadata": {},
     "output_type": "execute_result"
    },
    {
     "data": {
      "text/plain": [
       "<matplotlib.axes._subplots.AxesSubplot at 0x16fddfc4748>"
      ]
     },
     "execution_count": 137,
     "metadata": {},
     "output_type": "execute_result"
    },
    {
     "data": {
      "text/plain": [
       "Text(0.5, 0, ' V50 max using two-year bootstrap sampling')"
      ]
     },
     "execution_count": 137,
     "metadata": {},
     "output_type": "execute_result"
    },
    {
     "data": {
      "text/plain": [
       "Text(0, 0.5, 'Frecuency ')"
      ]
     },
     "execution_count": 137,
     "metadata": {},
     "output_type": "execute_result"
    },
    {
     "data": {
      "image/png": "[encoded data removed]",
      "text/plain": [
       "<Figure size 864x432 with 1 Axes>"
      ]
     },
     "metadata": {
      "needs_background": "light"
     },
     "output_type": "display_data"
    }
   ],
   "source": [
    "plt.figure(figsize=(12,6))\n",
    "sns.distplot(velocities_boot2,bins=100, kde=True,  color='b')\n",
    "plt.xlabel(' V50 max using two-year bootstrap sampling', fontsize=16)\n",
    "plt.ylabel('Frecuency ', fontsize=16)\n"
   ]
  },
  {
   "cell_type": "code",
   "execution_count": 392,
   "metadata": {},
   "outputs": [],
   "source": [
    "# X_dist=gumbel_r(loc=betaPWM, scale=alphaPWM)"
   ]
  },
  {
   "cell_type": "markdown",
   "metadata": {},
   "source": [
    "#### What is the std.dev. of 𝑉50 ( i.e. uncertainty),in Gumbel-fitting using only 2 years?"
   ]
  },
  {
   "cell_type": "code",
   "execution_count": 42,
   "metadata": {},
   "outputs": [
    {
     "data": {
      "text/plain": [
       "11.11092082928754"
      ]
     },
     "execution_count": 42,
     "metadata": {},
     "output_type": "execute_result"
    }
   ],
   "source": [
    "np.std(velocities_boot2)"
   ]
  },
  {
   "cell_type": "markdown",
   "metadata": {},
   "source": [
    "#### Repeat for other segment lengths 𝑇)* (3 yr…10 yr.), to get (fit) an expression for 𝜎v50 '( -variation as a function of 𝑇)*"
   ]
  },
  {
   "cell_type": "code",
   "execution_count": 45,
   "metadata": {},
   "outputs": [],
   "source": [
    "diffLenBoots=[]\n",
    "for Nbootstrap in [2,3,4,5,6,7,8,9,10,20,30,50]:\n",
    "    BootstrapSize = 1000\n",
    "    Bsample = np.random.choice(X1_MC, size=(BootstrapSize, Nbootstrap))\n",
    "    diffLenBoots.append(Bsample)"
   ]
  },
  {
   "cell_type": "code",
   "execution_count": 46,
   "metadata": {},
   "outputs": [
    {
     "data": {
      "text/plain": [
       "(1000, 2)"
      ]
     },
     "execution_count": 46,
     "metadata": {},
     "output_type": "execute_result"
    },
    {
     "data": {
      "text/plain": [
       "(1000, 3)"
      ]
     },
     "execution_count": 46,
     "metadata": {},
     "output_type": "execute_result"
    },
    {
     "data": {
      "text/plain": [
       "(1000, 4)"
      ]
     },
     "execution_count": 46,
     "metadata": {},
     "output_type": "execute_result"
    }
   ],
   "source": [
    "diffLenBoots[0].shape  #(1000, 2)\n",
    "diffLenBoots[1].shape  #(1000, 3)\n",
    "diffLenBoots[2].shape  #(1000, 4)"
   ]
  },
  {
   "cell_type": "code",
   "execution_count": 47,
   "metadata": {},
   "outputs": [
    {
     "data": {
      "text/plain": [
       "array([32.16756534])"
      ]
     },
     "execution_count": 47,
     "metadata": {},
     "output_type": "execute_result"
    }
   ],
   "source": [
    "boot_element"
   ]
  },
  {
   "cell_type": "code",
   "execution_count": 47,
   "metadata": {},
   "outputs": [],
   "source": [
    "stdVel_bootstrap=[]\n",
    "bootset_output=[]\n",
    "for boot_set in diffLenBoots:\n",
    "    \n",
    "    for boot_element in boot_set:  #entra aca a iterar las 1000 muestras de tamañao 2 primero.\n",
    "    \n",
    "        TSorted = np.sort(boot_element)\n",
    "\n",
    "        b0PWM_mb = b0PWM = 1/len(TSorted)*np.sum(TSorted)\n",
    "\n",
    "        N=len(TSorted)\n",
    "        factores_mb=np.empty(N)\n",
    "\n",
    "        for i in range (1,N+1):\n",
    "            factores_mb[i-1]=(i-1)/(N-1)\n",
    "\n",
    "        b1PWM_mb = (1/len(TSorted))*(np.sum(factores_mb*TSorted))\n",
    "\n",
    "        alphaPWM_mb = (2*b1PWM_mb-b0PWM_mb)/m.log(2)\n",
    "\n",
    "        betaPWM_mb = b0PWM_mb-0.577\n",
    "\n",
    "        V50PWM_mb=betaPWM_mb-alphaPWM_mb*m.log(-m.log(1-1/50))\n",
    "\n",
    "        bootset_output.append(V50PWM_mb) #para el primer bootset (1000,3), voy a tener 1.000 V50.\n",
    "        \n",
    "        if len(bootset_output)==1000:\n",
    "        \n",
    "            vel_mb=np.asarray([bootset_output])  #convierto en array al bootset para calcular std\n",
    "            \n",
    "            stdVel_bootstrap.append(np.std(vel_mb))\n",
    "                                    \n",
    "            bootset_output=[]  #reinicio bootset_output [no hace falta reiniciar vel_mb porque se iguala al nuevo valor]\n",
    "                                    \n",
    "                                    \n",
    "# [k] for k in range(0,1000)\n",
    "    "
   ]
  },
  {
   "cell_type": "code",
   "execution_count": 48,
   "metadata": {},
   "outputs": [
    {
     "data": {
      "text/plain": [
       "array([10.36632877,  8.37761747,  6.44915801,  5.90795249,  5.16004528,\n",
       "        4.87324066,  4.59772351,  4.33811303,  4.0227292 ,  2.7417995 ,\n",
       "        2.18311093,  1.76330892])"
      ]
     },
     "execution_count": 48,
     "metadata": {},
     "output_type": "execute_result"
    }
   ],
   "source": [
    "np.asarray(stdVel_bootstrap)  #quiero el alpha que ajuste la expresion lo mas cercano a estos valores"
   ]
  },
  {
   "cell_type": "code",
   "execution_count": 49,
   "metadata": {},
   "outputs": [],
   "source": [
    "from numpy.polynomial import polynomial as P"
   ]
  },
  {
   "cell_type": "code",
   "execution_count": 147,
   "metadata": {},
   "outputs": [],
   "source": [
    "x=[2,3,4,5,6,7,8,9,10,20,30,50]          #Cambiar aca \n",
    "y=np.asarray(stdVel_bootstrap)\n",
    "c, stats = P.polyfit(x,y,5, full=True)"
   ]
  },
  {
   "cell_type": "code",
   "execution_count": 82,
   "metadata": {},
   "outputs": [],
   "source": [
    "pol_aprox_6=[]\n",
    "for x in [2,3,4,5,6,7,8,9,10,20,30,50]:\n",
    "    y=c[0]+c[1]*x+c[2]*x**2+c[3]*x**3+c[4]*x**4+c[5]*x**5+c[6]*x**6\n",
    "    pol_aprox_6.append(y)"
   ]
  },
  {
   "cell_type": "code",
   "execution_count": 146,
   "metadata": {},
   "outputs": [
    {
     "data": {
      "text/plain": [
       "-5.3602852e-06"
      ]
     },
     "execution_count": 146,
     "metadata": {},
     "output_type": "execute_result"
    }
   ],
   "source": [
    "-5.36028520e-06"
   ]
  },
  {
   "cell_type": "code",
   "execution_count": 148,
   "metadata": {},
   "outputs": [
    {
     "data": {
      "text/plain": [
       "array([ 1.63025174e+01, -3.83442353e+00,  4.59885678e-01, -2.53497228e-02,\n",
       "        6.19403545e-04, -5.36028520e-06])"
      ]
     },
     "execution_count": 148,
     "metadata": {},
     "output_type": "execute_result"
    }
   ],
   "source": [
    "c"
   ]
  },
  {
   "cell_type": "code",
   "execution_count": 85,
   "metadata": {},
   "outputs": [],
   "source": [
    "pol_aprox_5=[]\n",
    "for x in [2,3,4,5,6,7,8,9,10,20,30,50]:\n",
    "    y=c[0]+c[1]*x+c[2]*x**2+c[3]*x**3+c[4]*x**4+c[5]*x**5\n",
    "    pol_aprox_5.append(y)"
   ]
  },
  {
   "cell_type": "code",
   "execution_count": 57,
   "metadata": {},
   "outputs": [],
   "source": [
    "pol_aprox_4=[]\n",
    "for x in [2,3,4,5,6,7,8,9,10,20,30,50]:\n",
    "    y=c[0]+c[1]*x+c[2]*x**2+c[3]*x**3+c[4]*x**4\n",
    "    pol_aprox_4.append(y)"
   ]
  },
  {
   "cell_type": "code",
   "execution_count": 59,
   "metadata": {},
   "outputs": [],
   "source": [
    "pol_aprox_3=[]\n",
    "for x in [2,3,4,5,6,7,8,9,10,20,30,50]:\n",
    "    y=c[0]+c[1]*x+c[2]*x**2+c[3]*x**3\n",
    "    pol_aprox_3.append(y)"
   ]
  },
  {
   "cell_type": "code",
   "execution_count": 61,
   "metadata": {},
   "outputs": [],
   "source": [
    "pol_aprox_2=[]\n",
    "for x in [2,3,4,5,6,7,8,9,10,20,30,50]:\n",
    "    y=c[0]+c[1]*x+c[2]*x**2\n",
    "    pol_aprox_2.append(y)"
   ]
  },
  {
   "cell_type": "code",
   "execution_count": 118,
   "metadata": {},
   "outputs": [
    {
     "data": {
      "text/plain": [
       "<matplotlib.collections.PathCollection at 0x16fda07ce48>"
      ]
     },
     "execution_count": 118,
     "metadata": {},
     "output_type": "execute_result"
    },
    {
     "data": {
      "text/plain": [
       "[<matplotlib.lines.Line2D at 0x16fda0fe348>]"
      ]
     },
     "execution_count": 118,
     "metadata": {},
     "output_type": "execute_result"
    },
    {
     "data": {
      "text/plain": [
       "[<matplotlib.lines.Line2D at 0x16fda0bafc8>]"
      ]
     },
     "execution_count": 118,
     "metadata": {},
     "output_type": "execute_result"
    },
    {
     "data": {
      "text/plain": [
       "Text(0.5, 0, 'T_es [years]')"
      ]
     },
     "execution_count": 118,
     "metadata": {},
     "output_type": "execute_result"
    },
    {
     "data": {
      "text/plain": [
       "Text(0, 0.5, 'Std. (σ) of V_50 [m/s]')"
      ]
     },
     "execution_count": 118,
     "metadata": {},
     "output_type": "execute_result"
    },
    {
     "data": {
      "image/png": "[encoded data removed]",
      "text/plain": [
       "<Figure size 720x432 with 1 Axes>"
      ]
     },
     "metadata": {
      "needs_background": "light"
     },
     "output_type": "display_data"
    }
   ],
   "source": [
    "fig1, ax1=plt.subplots(1,1, figsize=(10,6))\n",
    "ax1.scatter([2,3,4,5,6,7,8,9,10,20,30,50],stdVel_bootstrap, color='red', label='Bootstrap values')\n",
    "#ax1.plot([2,3,4,5,6,7,8,9,10,20,30,50],np.asarray(pol_aprox_2),linestyle='-', label='2th grade polynom' )\n",
    "#ax1.plot([2,3,4,5,6,7,8,9,10,20,30,50],np.asarray(pol_aprox_3),linestyle='-', label='3th grade polynom' )\n",
    "ax1.plot([2,3,4,5,6,7,8,9,10,20,30,50],np.asarray(pol_aprox_4), linestyle='--', label='4th grade polynom')\n",
    "ax1.plot([2,3,4,5,6,7,8,9,10,20,30,50],np.asarray(pol_aprox_5), linestyle='-' ,label='5th grade polynom')\n",
    "plt.xlabel('T_es [years]', fontsize=16)\n",
    "plt.ylabel('Std. (σ) of V_50 [m/s]',  fontsize=16)\n",
    "\n",
    "leg = ax1.legend(loc='upper center')\n",
    "plt.grid()"
   ]
  },
  {
   "cell_type": "code",
   "execution_count": 112,
   "metadata": {},
   "outputs": [
    {
     "data": {
      "text/plain": [
       "0.06748552368000826"
      ]
     },
     "execution_count": 112,
     "metadata": {},
     "output_type": "execute_result"
    },
    {
     "data": {
      "text/plain": [
       "0.10669551904306866"
      ]
     },
     "execution_count": 112,
     "metadata": {},
     "output_type": "execute_result"
    },
    {
     "data": {
      "text/plain": [
       "0.3130240194362509"
      ]
     },
     "execution_count": 112,
     "metadata": {},
     "output_type": "execute_result"
    },
    {
     "data": {
      "text/plain": [
       "0.5130615976420355"
      ]
     },
     "execution_count": 112,
     "metadata": {},
     "output_type": "execute_result"
    },
    {
     "data": {
      "text/plain": [
       "0.9356973735320656"
      ]
     },
     "execution_count": 112,
     "metadata": {},
     "output_type": "execute_result"
    }
   ],
   "source": [
    "np.mean(abs(np.asarray(pol_aprox_6)-np.asarray(stdVel_bootstrap)))\n",
    "\n",
    "np.mean(abs(np.asarray(pol_aprox_5)-np.asarray(stdVel_bootstrap)))\n",
    "\n",
    "np.mean(abs(np.asarray(pol_aprox_4)-np.asarray(stdVel_bootstrap)))\n",
    "\n",
    "np.mean(abs(np.asarray(pol_aprox_3)-np.asarray(stdVel_bootstrap)))\n",
    "\n",
    "np.mean(abs(np.asarray(pol_aprox_2)-np.asarray(stdVel_bootstrap)))"
   ]
  },
  {
   "cell_type": "code",
   "execution_count": 124,
   "metadata": {
    "collapsed": true
   },
   "outputs": [
    {
     "data": {
      "text/plain": [
       "[11.455281272605415,\n",
       " 8.09122701542229,\n",
       " 6.914407886742717,\n",
       " 6.406916275915872,\n",
       " 5.591351218550368,\n",
       " 5.257116436982531,\n",
       " 4.753157220330781,\n",
       " 4.627347031038861,\n",
       " 4.307592266857092,\n",
       " 2.887097708154548,\n",
       " 2.409042458817451,\n",
       " 1.8676495608965242]"
      ]
     },
     "execution_count": 124,
     "metadata": {},
     "output_type": "execute_result"
    }
   ],
   "source": [
    "stdVel_bootstrap  #esto es para los siguientes valores de Tes [2,3,4,5,6,7,8,9,10,20,30,50]\n",
    "for tes in [2,3,4,5,6,7,8,9,10,20,30,50]:\n",
    "    "
   ]
  },
  {
   "cell_type": "code",
   "execution_count": 87,
   "metadata": {},
   "outputs": [],
   "source": [
    "varU_T_teorical=[]\n",
    "alpha_varU_T_dict={}\n",
    "for alpha in [0.5,1,2,3]:\n",
    "    for N in [2,3,4,5,6,7,8,9,10,20,30,50]:\n",
    "        qt=(m.log(50)-0.577)/m.log(2)\n",
    "        var_N=((alpha**2*m.pi**2)/(6*N))*(1+0.584*qt+(0.234*qt**2)/(1-0.823/N))\n",
    "        varU_T_teorical.append(np.sqrt(var_N))\n",
    "    alpha_varU_T_dict[alpha]=varU_T_teorical #almaceno la lista en el diccionario\n",
    "    varU_T_teorical=[]   #reinicio"
   ]
  },
  {
   "cell_type": "code",
   "execution_count": 95,
   "metadata": {},
   "outputs": [
    {
     "data": {
      "text/plain": [
       "array([6.54344497, 4.97276499, 4.18162383, 3.68058196, 3.32608106,\n",
       "       3.05800083, 2.84600377, 2.67286896, 2.52798629, 1.76409075,\n",
       "       1.43429495, 1.10731367])"
      ]
     },
     "execution_count": 95,
     "metadata": {},
     "output_type": "execute_result"
    }
   ],
   "source": [
    "np.asarray(alpha_varU_T_dict[2])"
   ]
  },
  {
   "cell_type": "code",
   "execution_count": 119,
   "metadata": {},
   "outputs": [
    {
     "data": {
      "text/plain": [
       "[<matplotlib.lines.Line2D at 0x16fda118cc8>]"
      ]
     },
     "execution_count": 119,
     "metadata": {},
     "output_type": "execute_result"
    },
    {
     "data": {
      "text/plain": [
       "[<matplotlib.lines.Line2D at 0x16fda182588>]"
      ]
     },
     "execution_count": 119,
     "metadata": {},
     "output_type": "execute_result"
    },
    {
     "data": {
      "text/plain": [
       "[<matplotlib.lines.Line2D at 0x16fda153048>]"
      ]
     },
     "execution_count": 119,
     "metadata": {},
     "output_type": "execute_result"
    },
    {
     "data": {
      "text/plain": [
       "[<matplotlib.lines.Line2D at 0x16fda18afc8>]"
      ]
     },
     "execution_count": 119,
     "metadata": {},
     "output_type": "execute_result"
    },
    {
     "data": {
      "text/plain": [
       "Text(0.5, 0, 'T_es [years]')"
      ]
     },
     "execution_count": 119,
     "metadata": {},
     "output_type": "execute_result"
    },
    {
     "data": {
      "text/plain": [
       "Text(0, 0.5, 'Std. (σ) of V_50 [m/s]')"
      ]
     },
     "execution_count": 119,
     "metadata": {},
     "output_type": "execute_result"
    },
    {
     "data": {
      "image/png": "[encoded data removed]",
      "text/plain": [
       "<Figure size 720x432 with 1 Axes>"
      ]
     },
     "metadata": {
      "needs_background": "light"
     },
     "output_type": "display_data"
    }
   ],
   "source": [
    "fig1, ax1=plt.subplots(1,1, figsize=(10,6))\n",
    "ax1.plot([2,3,4,5,6,7,8,9,10,20,30,50],[1.63586124, 1.24319125, 1.04540596, 0.92014549, 0.83152027,\n",
    "       0.76450021, 0.71150094, 0.66821724, 0.63199657, 0.44102269,\n",
    "       0.35857374, 0.27682842], label='alpha=0.5')\n",
    "\n",
    "ax1.plot([2,3,4,5,6,7,8,9,10,20,30,50],[3.27172248, 2.4863825 , 2.09081191, 1.84029098, 1.66304053,\n",
    "       1.52900041, 1.42300189, 1.33643448, 1.26399315, 0.88204538,\n",
    "       0.71714748, 0.55365683], label='alpha=1')\n",
    "\n",
    "ax1.plot([2,3,4,5,6,7,8,9,10,20,30,50],[6.54344497, 4.97276499, 4.18162383, 3.68058196, 3.32608106,\n",
    "       3.05800083, 2.84600377, 2.67286896, 2.52798629, 1.76409075,\n",
    "       1.43429495, 1.10731367], label='alpha=2')\n",
    "\n",
    "\n",
    "ax1.plot([2,3,4,5,6,7,8,9,10,20,30,50],[9.81516745, 7.45914749, 6.27243574, 5.52087294, 4.98912159,\n",
    "       4.58700124, 4.26900566, 4.00930344, 3.79197944, 2.64613613,\n",
    "       2.15144243, 1.6609705 ], label='alpha=3')\n",
    "\n",
    "#ax1.scatter([2,3,4,5,6,7,8,9,10,20,30,50],[10.36632877,  8.37761747,  6.44915801,  5.90795249,  5.16004528,\n",
    "      #  4.87324066,  4.59772351,  4.33811303,  4.0227292 ,  2.7417995 ,\n",
    "  #      2.18311093,  1.76330892])\n",
    "\n",
    "plt.xlabel('T_es [years]', fontsize=16)\n",
    "plt.ylabel('Std. (σ) of V_50 [m/s]',  fontsize=16)\n",
    "plt.grid()\n",
    "leg = ax1.legend(loc='upper center')"
   ]
  },
  {
   "cell_type": "code",
   "execution_count": 101,
   "metadata": {},
   "outputs": [
    {
     "data": {
      "text/plain": [
       "array([3.   , 3.025, 3.05 , 3.075, 3.1  , 3.125, 3.15 , 3.175, 3.2  ,\n",
       "       3.225, 3.25 , 3.275, 3.3  , 3.325, 3.35 , 3.375, 3.4  , 3.425,\n",
       "       3.45 , 3.475, 3.5  ])"
      ]
     },
     "execution_count": 101,
     "metadata": {},
     "output_type": "execute_result"
    }
   ],
   "source": [
    "np.linspace(3,3.5,21)"
   ]
  },
  {
   "cell_type": "code",
   "execution_count": 102,
   "metadata": {},
   "outputs": [],
   "source": [
    "#find alpha that minimieze the error between the obtained values and \n",
    "find_varU_T_teorical=[]\n",
    "find_alpha_varU_T_dict={}\n",
    "for alpha in np.linspace(3,3.5,21):\n",
    "    for N in [2,3,4,5,6,7,8,9,10,20,30,50]:\n",
    "        qt=(m.log(50)-0.577)/m.log(2)\n",
    "        var_N=((alpha**2*m.pi**2)/(6*N))*(1+0.584*qt+(0.234*qt**2)/(1-0.823/N))\n",
    "        find_varU_T_teorical.append(np.sqrt(var_N))\n",
    "    find_alpha_varU_T_dict[alpha]=find_varU_T_teorical #almaceno la lista en el diccionario\n",
    "    find_varU_T_teorical=[]   #reinicio\n"
   ]
  },
  {
   "cell_type": "code",
   "execution_count": 103,
   "metadata": {
    "collapsed": true
   },
   "outputs": [
    {
     "name": "stdout",
     "output_type": "stream",
     "text": [
      "3.0 0.30071197713102094\n",
      "3.025 0.26100879376846003\n",
      "3.05 0.22200375466193434\n",
      "3.075 0.18528868578083646\n",
      "3.1 0.15396677002786943\n",
      "3.125 0.13455486393061536\n",
      "3.15 0.1171560359646221\n",
      "3.175 0.10332222762182885\n",
      "3.2 0.10788932304170668\n",
      "3.225 0.12256470282900855\n",
      "3.25 0.14579891622649185\n",
      "3.275 0.17514217251923822\n",
      "3.3 0.20448542881198506\n",
      "3.325 0.23382868510473212\n",
      "3.35 0.26317194139747907\n",
      "3.375 0.29483577330739213\n",
      "3.4 0.33453895666995237\n",
      "3.425 0.3742421400325133\n",
      "3.45 0.4139453233950748\n",
      "3.475 0.45364850675763585\n",
      "3.5 0.4933516901201962\n"
     ]
    }
   ],
   "source": [
    "mindif_list=[]\n",
    "for k, v in find_alpha_varU_T_dict.items():\n",
    "    print(k , np.mean(abs(np.asarray(v)-np.asarray(stdVel_bootstrap))) )\n",
    "    mindif_list.append(np.mean(abs(np.asarray(v)-np.asarray(stdVel_bootstrap))))"
   ]
  },
  {
   "cell_type": "code",
   "execution_count": 104,
   "metadata": {},
   "outputs": [
    {
     "data": {
      "text/plain": [
       "0.10332222762182885"
      ]
     },
     "execution_count": 104,
     "metadata": {},
     "output_type": "execute_result"
    }
   ],
   "source": [
    "min(mindif_list)  #0.103322  equal to 3.175"
   ]
  },
  {
   "cell_type": "code",
   "execution_count": 107,
   "metadata": {},
   "outputs": [
    {
     "data": {
      "text/plain": [
       "array([10.38771889,  7.89426443,  6.63832782,  5.84292386,  5.28015368,\n",
       "        4.85457631,  4.51803099,  4.24317948,  4.01317824,  2.80049407,\n",
       "        2.27694323,  1.75786045])"
      ]
     },
     "execution_count": 107,
     "metadata": {},
     "output_type": "execute_result"
    }
   ],
   "source": [
    "np.asarray(find_alpha_varU_T_dict[3.175])"
   ]
  },
  {
   "cell_type": "code",
   "execution_count": 110,
   "metadata": {},
   "outputs": [
    {
     "data": {
      "text/plain": [
       "[<matplotlib.lines.Line2D at 0x16fd9e5a788>]"
      ]
     },
     "execution_count": 110,
     "metadata": {},
     "output_type": "execute_result"
    },
    {
     "data": {
      "text/plain": [
       "<matplotlib.collections.PathCollection at 0x16fd9e50788>"
      ]
     },
     "execution_count": 110,
     "metadata": {},
     "output_type": "execute_result"
    },
    {
     "data": {
      "text/plain": [
       "Text(0.5, 0, 'T_es [years]')"
      ]
     },
     "execution_count": 110,
     "metadata": {},
     "output_type": "execute_result"
    },
    {
     "data": {
      "text/plain": [
       "Text(0, 0.5, 'Std. (σ) of V_50 [m/s]')"
      ]
     },
     "execution_count": 110,
     "metadata": {},
     "output_type": "execute_result"
    },
    {
     "data": {
      "image/png": "[encoded data removed]",
      "text/plain": [
       "<Figure size 720x432 with 1 Axes>"
      ]
     },
     "metadata": {
      "needs_background": "light"
     },
     "output_type": "display_data"
    }
   ],
   "source": [
    "fig1, ax1=plt.subplots(1,1, figsize=(10,6))\n",
    "ax1.plot([2,3,4,5,6,7,8,9,10,20,30,50],np.asarray(find_alpha_varU_T_dict[3.175]), label='alpha=3.175')\n",
    "\n",
    "ax1.scatter([2,3,4,5,6,7,8,9,10,20,30,50],[10.36632877,  8.37761747,  6.44915801,  5.90795249,  5.16004528,\n",
    "        4.87324066,  4.59772351,  4.33811303,  4.0227292 ,  2.7417995 ,\n",
    "        2.18311093,  1.76330892])\n",
    "\n",
    "plt.xlabel('T_es [years]', fontsize=16)\n",
    "plt.ylabel('Std. (σ) of V_50 [m/s]',  fontsize=16)\n",
    "plt.grid()\n",
    "leg = ax1.legend(loc='upper center')"
   ]
  },
  {
   "cell_type": "code",
   "execution_count": 120,
   "metadata": {},
   "outputs": [],
   "source": [
    "find_varU_T_teorical=[]\n",
    "find_alpha_varU_T_dict={}\n",
    "for alpha in np.linspace(3.15,3.2,21):\n",
    "    for N in [2,3,4,5,6,7,8,9,10,20,30,50]:\n",
    "        qt=(m.log(50)-0.577)/m.log(2)\n",
    "        var_N=((alpha**2*m.pi**2)/(6*N))*(1+0.584*qt+(0.234*qt**2)/(1-0.823/N))\n",
    "        find_varU_T_teorical.append(np.sqrt(var_N))\n",
    "    find_alpha_varU_T_dict[alpha]=find_varU_T_teorical #almaceno la lista en el diccionario\n",
    "    find_varU_T_teorical=[]   #reinicio"
   ]
  },
  {
   "cell_type": "code",
   "execution_count": 121,
   "metadata": {
    "collapsed": true
   },
   "outputs": [
    {
     "name": "stdout",
     "output_type": "stream",
     "text": [
      "3.15 0.1171560359646221\n",
      "3.1525 0.11541615316802284\n",
      "3.155 0.11367627037142347\n",
      "3.1574999999999998 0.11193638757482427\n",
      "3.16 0.11019650477822442\n",
      "3.1625 0.10845662198162526\n",
      "3.165 0.10671673918502599\n",
      "3.1675 0.10497685638842662\n",
      "3.17 0.10407555781208398\n",
      "3.1725 0.10369889271695655\n",
      "3.175 0.10332222762182885\n",
      "3.1775 0.1029455625267014\n",
      "3.18 0.10256889743157387\n",
      "3.1825 0.1021922323364464\n",
      "3.185 0.10234507790730989\n",
      "3.1875 0.10280046020009902\n",
      "3.19 0.1038182327684205\n",
      "3.1925000000000003 0.10483600533674219\n",
      "3.1950000000000003 0.10585377790506356\n",
      "3.1975000000000002 0.1068715504733852\n",
      "3.2 0.10788932304170668\n"
     ]
    }
   ],
   "source": [
    "mindif_list=[]\n",
    "for k, v in find_alpha_varU_T_dict.items():\n",
    "    print(k , np.mean(abs(np.asarray(v)-np.asarray(stdVel_bootstrap))) )\n",
    "    mindif_list.append(np.mean(abs(np.asarray(v)-np.asarray(stdVel_bootstrap))))"
   ]
  },
  {
   "cell_type": "code",
   "execution_count": 124,
   "metadata": {},
   "outputs": [
    {
     "data": {
      "text/plain": [
       "array([10.4122568 ,  7.9129123 ,  6.65400891,  5.85672604,  5.29262649,\n",
       "        4.86604381,  4.5287035 ,  4.25320273,  4.02265818,  2.80710941,\n",
       "        2.28232184,  1.76201287])"
      ]
     },
     "execution_count": 124,
     "metadata": {},
     "output_type": "execute_result"
    }
   ],
   "source": [
    "np.asarray(find_alpha_varU_T_dict[3.1825])"
   ]
  },
  {
   "cell_type": "code",
   "execution_count": 129,
   "metadata": {},
   "outputs": [
    {
     "data": {
      "text/plain": [
       "<matplotlib.collections.PathCollection at 0x16fda31bf48>"
      ]
     },
     "execution_count": 129,
     "metadata": {},
     "output_type": "execute_result"
    },
    {
     "data": {
      "text/plain": [
       "[<matplotlib.lines.Line2D at 0x16fda38e108>]"
      ]
     },
     "execution_count": 129,
     "metadata": {},
     "output_type": "execute_result"
    },
    {
     "data": {
      "text/plain": [
       "Text(0.5, 0, 'T_es [years]')"
      ]
     },
     "execution_count": 129,
     "metadata": {},
     "output_type": "execute_result"
    },
    {
     "data": {
      "text/plain": [
       "Text(0, 0.5, 'Std. (σ) of V_50 [m/s]')"
      ]
     },
     "execution_count": 129,
     "metadata": {},
     "output_type": "execute_result"
    },
    {
     "data": {
      "image/png": "[encoded data removed]",
      "text/plain": [
       "<Figure size 720x432 with 1 Axes>"
      ]
     },
     "metadata": {
      "needs_background": "light"
     },
     "output_type": "display_data"
    }
   ],
   "source": [
    "fig1, ax1=plt.subplots(1,1, figsize=(10,6))\n",
    "ax1.scatter([2,3,4,5,6,7,8,9,10,20,30,50],np.asarray(find_alpha_varU_T_dict[3.1825]), color='r')\n",
    "ax1.plot([2,3,4,5,6,7,8,9,10,20,30,50],np.asarray(find_alpha_varU_T_dict[3.1825]),linestyle='--', label='alpha=3.1825')\n",
    "\n",
    "\n",
    "\n",
    "plt.xlabel('T_es [years]', fontsize=16)\n",
    "plt.ylabel('Std. (σ) of V_50 [m/s]',  fontsize=16)\n",
    "plt.grid()\n",
    "leg = ax1.legend(loc='upper center')"
   ]
  }
 ],
 "metadata": {
  "anaconda-cloud": {},
  "hide_input": false,
  "kernelspec": {
   "display_name": "Python 3",
   "language": "python",
   "name": "python3"
  },
  "language_info": {
   "codemirror_mode": {
    "name": "ipython",
    "version": 3
   },
   "file_extension": ".py",
   "mimetype": "text/x-python",
   "name": "python",
   "nbconvert_exporter": "python",
   "pygments_lexer": "ipython3",
   "version": "3.7.6"
  }
 },
 "nbformat": 4,
 "nbformat_minor": 2
}
